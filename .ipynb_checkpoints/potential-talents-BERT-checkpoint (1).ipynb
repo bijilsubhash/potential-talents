{
 "cells": [
  {
   "cell_type": "markdown",
   "id": "b9c2c6ad",
   "metadata": {},
   "source": [
    "# Background:"
   ]
  },
  {
   "cell_type": "markdown",
   "id": "1dc97d1f",
   "metadata": {},
   "source": [
    "As a talent sourcing and management company, we are interested in finding talented individuals for sourcing these candidates to technology companies. Finding talented candidates is not easy, for several reasons. The first reason is one needs to understand what the role is very well to fill in that spot, this requires understanding the client’s needs and what they are looking for in a potential candidate. The second reason is one needs to understand what makes a candidate shine for the role we are in search for. Third, where to find talented individuals is another challenge.\n",
    "\n",
    "The nature of our job requires a lot of human labor and is full of manual operations. Towards automating this process we want to build a better approach that could save us time and finally help us spot potential candidates that could fit the roles we are in search for. Moreover, going beyond that for a specific role we want to fill in we are interested in developing a machine learning powered pipeline that could spot talented individuals, and rank them based on their fitness.\n",
    "\n",
    "We are right now semi-automatically sourcing a few candidates, therefore the sourcing part is not a concern at this time but we expect to first determine best matching candidates based on how fit these candidates are for a given role. We generally make these searches based on some keywords such as “full-stack software engineer”, “engineering manager” or “aspiring human resources” based on the role we are trying to fill in. These keywords might change, and you can expect that specific keywords will be provided to you.\n",
    "\n",
    "Assuming that we were able to list and rank fitting candidates, we then employ a review procedure, as each candidate needs to be reviewed and then determined how good a fit they are through manual inspection. This procedure is done manually and at the end of this manual review, we might choose not the first fitting candidate in the list but maybe the 7th candidate in the list. If that happens, we are interested in being able to re-rank the previous list based on this information. This supervisory signal is going to be supplied by starring the 7th candidate in the list. Starring one candidate actually sets this candidate as an ideal candidate for the given role. Then, we expect the list to be re-ranked each time a candidate is starred."
   ]
  },
  {
   "cell_type": "markdown",
   "id": "c30a5a18",
   "metadata": {},
   "source": [
    "# Data Description:"
   ]
  },
  {
   "cell_type": "markdown",
   "id": "3f541a07",
   "metadata": {},
   "source": [
    "The data comes from our sourcing efforts. We removed any field that could directly reveal personal details and gave a unique identifier for each candidate.\n",
    "\n",
    "Attributes:\n",
    "id : unique identifier for candidate (numeric)\n",
    "\n",
    "job_title : job title for candidate (text)\n",
    "\n",
    "location : geographical location for candidate (text)\n",
    "\n",
    "connections: number of connections candidate has, 500+ means over 500 (text)\n",
    "\n",
    "Output (desired target):\n",
    "fit - how fit the candidate is for the role? (numeric, probability between 0-1)\n",
    "\n",
    "Keywords: “Aspiring human resources” or “seeking human resources”"
   ]
  },
  {
   "cell_type": "code",
   "execution_count": 1,
   "id": "5905e0af",
   "metadata": {},
   "outputs": [
    {
     "data": {
      "text/html": [
       "<div>\n",
       "<style scoped>\n",
       "    .dataframe tbody tr th:only-of-type {\n",
       "        vertical-align: middle;\n",
       "    }\n",
       "\n",
       "    .dataframe tbody tr th {\n",
       "        vertical-align: top;\n",
       "    }\n",
       "\n",
       "    .dataframe thead th {\n",
       "        text-align: right;\n",
       "    }\n",
       "</style>\n",
       "<table border=\"1\" class=\"dataframe\">\n",
       "  <thead>\n",
       "    <tr style=\"text-align: right;\">\n",
       "      <th></th>\n",
       "      <th>id</th>\n",
       "      <th>job_title</th>\n",
       "      <th>location</th>\n",
       "      <th>connection</th>\n",
       "      <th>fit</th>\n",
       "    </tr>\n",
       "  </thead>\n",
       "  <tbody>\n",
       "    <tr>\n",
       "      <th>0</th>\n",
       "      <td>1</td>\n",
       "      <td>2019 C.T. Bauer College of Business Graduate (...</td>\n",
       "      <td>Houston, Texas</td>\n",
       "      <td>85</td>\n",
       "      <td>NaN</td>\n",
       "    </tr>\n",
       "    <tr>\n",
       "      <th>1</th>\n",
       "      <td>2</td>\n",
       "      <td>Native English Teacher at EPIK (English Progra...</td>\n",
       "      <td>Kanada</td>\n",
       "      <td>500+</td>\n",
       "      <td>NaN</td>\n",
       "    </tr>\n",
       "    <tr>\n",
       "      <th>2</th>\n",
       "      <td>3</td>\n",
       "      <td>Aspiring Human Resources Professional</td>\n",
       "      <td>Raleigh-Durham, North Carolina Area</td>\n",
       "      <td>44</td>\n",
       "      <td>NaN</td>\n",
       "    </tr>\n",
       "    <tr>\n",
       "      <th>3</th>\n",
       "      <td>4</td>\n",
       "      <td>People Development Coordinator at Ryan</td>\n",
       "      <td>Denton, Texas</td>\n",
       "      <td>500+</td>\n",
       "      <td>NaN</td>\n",
       "    </tr>\n",
       "    <tr>\n",
       "      <th>4</th>\n",
       "      <td>5</td>\n",
       "      <td>Advisory Board Member at Celal Bayar University</td>\n",
       "      <td>İzmir, Türkiye</td>\n",
       "      <td>500+</td>\n",
       "      <td>NaN</td>\n",
       "    </tr>\n",
       "    <tr>\n",
       "      <th>...</th>\n",
       "      <td>...</td>\n",
       "      <td>...</td>\n",
       "      <td>...</td>\n",
       "      <td>...</td>\n",
       "      <td>...</td>\n",
       "    </tr>\n",
       "    <tr>\n",
       "      <th>99</th>\n",
       "      <td>100</td>\n",
       "      <td>Aspiring Human Resources Manager | Graduating ...</td>\n",
       "      <td>Cape Girardeau, Missouri</td>\n",
       "      <td>103</td>\n",
       "      <td>NaN</td>\n",
       "    </tr>\n",
       "    <tr>\n",
       "      <th>100</th>\n",
       "      <td>101</td>\n",
       "      <td>Human Resources Generalist at Loparex</td>\n",
       "      <td>Raleigh-Durham, North Carolina Area</td>\n",
       "      <td>500+</td>\n",
       "      <td>NaN</td>\n",
       "    </tr>\n",
       "    <tr>\n",
       "      <th>101</th>\n",
       "      <td>102</td>\n",
       "      <td>Business Intelligence and Analytics at Travelers</td>\n",
       "      <td>Greater New York City Area</td>\n",
       "      <td>49</td>\n",
       "      <td>NaN</td>\n",
       "    </tr>\n",
       "    <tr>\n",
       "      <th>102</th>\n",
       "      <td>103</td>\n",
       "      <td>Always set them up for Success</td>\n",
       "      <td>Greater Los Angeles Area</td>\n",
       "      <td>500+</td>\n",
       "      <td>NaN</td>\n",
       "    </tr>\n",
       "    <tr>\n",
       "      <th>103</th>\n",
       "      <td>104</td>\n",
       "      <td>Director Of Administration at Excellence Logging</td>\n",
       "      <td>Katy, Texas</td>\n",
       "      <td>500+</td>\n",
       "      <td>NaN</td>\n",
       "    </tr>\n",
       "  </tbody>\n",
       "</table>\n",
       "<p>104 rows × 5 columns</p>\n",
       "</div>"
      ],
      "text/plain": [
       "      id                                          job_title  \\\n",
       "0      1  2019 C.T. Bauer College of Business Graduate (...   \n",
       "1      2  Native English Teacher at EPIK (English Progra...   \n",
       "2      3              Aspiring Human Resources Professional   \n",
       "3      4             People Development Coordinator at Ryan   \n",
       "4      5    Advisory Board Member at Celal Bayar University   \n",
       "..   ...                                                ...   \n",
       "99   100  Aspiring Human Resources Manager | Graduating ...   \n",
       "100  101              Human Resources Generalist at Loparex   \n",
       "101  102   Business Intelligence and Analytics at Travelers   \n",
       "102  103                     Always set them up for Success   \n",
       "103  104   Director Of Administration at Excellence Logging   \n",
       "\n",
       "                                location connection  fit  \n",
       "0                         Houston, Texas         85  NaN  \n",
       "1                                 Kanada      500+   NaN  \n",
       "2    Raleigh-Durham, North Carolina Area         44  NaN  \n",
       "3                          Denton, Texas      500+   NaN  \n",
       "4                         İzmir, Türkiye      500+   NaN  \n",
       "..                                   ...        ...  ...  \n",
       "99              Cape Girardeau, Missouri        103  NaN  \n",
       "100  Raleigh-Durham, North Carolina Area      500+   NaN  \n",
       "101           Greater New York City Area         49  NaN  \n",
       "102             Greater Los Angeles Area      500+   NaN  \n",
       "103                          Katy, Texas      500+   NaN  \n",
       "\n",
       "[104 rows x 5 columns]"
      ]
     },
     "execution_count": 1,
     "metadata": {},
     "output_type": "execute_result"
    }
   ],
   "source": [
    "import pandas as pd\n",
    "df = pd.read_csv('potential-talents.csv')\n",
    "df"
   ]
  },
  {
   "cell_type": "markdown",
   "id": "03ac385c",
   "metadata": {},
   "source": [
    "The job title seems unique for each candidate. First, I am going to see if the dataset represent any specific sector, i.e. checking if this dataset is a result of semi-automatic candidate sourcing that was mentioned in the brief, based on a specific keyword/s"
   ]
  },
  {
   "cell_type": "code",
   "execution_count": 12,
   "id": "dac20533",
   "metadata": {},
   "outputs": [
    {
     "data": {
      "text/plain": [
       "array(['2019 C.T. Bauer College of Business Graduate (Magna Cum Laude) and aspiring Human Resources professional',\n",
       "       'Native English Teacher at EPIK (English Program in Korea)',\n",
       "       'Aspiring Human Resources Professional',\n",
       "       'People Development Coordinator at Ryan',\n",
       "       'Advisory Board Member at Celal Bayar University',\n",
       "       'Aspiring Human Resources Specialist',\n",
       "       'Student at Humber College and Aspiring Human Resources Generalist',\n",
       "       'HR Senior Specialist',\n",
       "       'Seeking Human Resources HRIS and Generalist Positions',\n",
       "       'Student at Chapman University',\n",
       "       'SVP, CHRO, Marketing & Communications, CSR Officer | ENGIE | Houston | The Woodlands | Energy | GPHR | SPHR',\n",
       "       'Human Resources Coordinator at InterContinental Buckhead Atlanta',\n",
       "       'Aspiring Human Resources Management student seeking an internship',\n",
       "       'Seeking Human Resources Opportunities',\n",
       "       'Experienced Retail Manager and aspiring Human Resources Professional',\n",
       "       'Human Resources, Staffing and Recruiting Professional',\n",
       "       'Human Resources Specialist at Luxottica',\n",
       "       'Director of Human Resources North America, Groupe Beneteau',\n",
       "       'Retired Army National Guard Recruiter, office manager,  seeking a position in Human Resources.',\n",
       "       'Human Resources Generalist at ScottMadden, Inc.',\n",
       "       'Business Management Major and Aspiring Human Resources Manager',\n",
       "       'Aspiring Human Resources Manager, seeking internship in Human Resources.',\n",
       "       'Human Resources Professional',\n",
       "       'Nortia Staffing is seeking Human Resources, Payroll & Administrative Professionals!!  (408) 709-2621',\n",
       "       'Aspiring Human Resources Professional | Passionate about helping to create an inclusive and engaging work environment',\n",
       "       'Human Resources|\\nConflict Management|\\nPolicies & Procedures|Talent Management|Benefits & Compensation',\n",
       "       \"Human Resources Generalist at Schwan's\",\n",
       "       'Liberal Arts Major. Aspiring Human Resources Analyst.',\n",
       "       'Junior MES Engineer| Information Systems',\n",
       "       'Senior Human Resources Business Partner at Heil Environmental',\n",
       "       'Aspiring Human Resources Professional | An energetic and Team-Focused Leader',\n",
       "       'HR Manager at Endemol Shine North America',\n",
       "       'Human Resources professional for the world leader in GIS software',\n",
       "       'RRP Brand Portfolio Executive at JTI (Japan Tobacco International)',\n",
       "       'Information Systems Specialist and Programmer with a love for data and organization.',\n",
       "       'Bachelor of Science in Biology from Victoria University of Wellington',\n",
       "       'Human Resources Management Major',\n",
       "       'Director Human Resources  at EY',\n",
       "       'Undergraduate Research Assistant at Styczynski Lab',\n",
       "       'Lead Official at Western Illinois University',\n",
       "       'Seeking employment opportunities within Customer Service or Patient Care',\n",
       "       'Admissions Representative at Community medical center long beach',\n",
       "       'Seeking Human  Resources Opportunities. Open to travel and relocation.',\n",
       "       'Student at Westfield State University',\n",
       "       'Student at Indiana University Kokomo - Business Management - \\nRetail Manager at Delphi Hardware and Paint',\n",
       "       'Student', 'Seeking Human Resources Position',\n",
       "       'Aspiring Human Resources Manager | Graduating May 2020 | Seeking an Entry-Level Human Resources Position in St. Louis',\n",
       "       'Human Resources Generalist at Loparex',\n",
       "       'Business Intelligence and Analytics at Travelers',\n",
       "       'Always set them up for Success',\n",
       "       'Director Of Administration at Excellence Logging'], dtype=object)"
      ]
     },
     "execution_count": 12,
     "metadata": {},
     "output_type": "execute_result"
    }
   ],
   "source": [
    "job_titles = df.job_title.unique()\n",
    "job_titles"
   ]
  },
  {
   "cell_type": "code",
   "execution_count": 30,
   "id": "a405096d",
   "metadata": {},
   "outputs": [
    {
     "data": {
      "text/plain": [
       "[('Human', 33),\n",
       " ('Resources', 28),\n",
       " ('at', 22),\n",
       " ('and', 13),\n",
       " ('Aspiring', 10),\n",
       " ('|', 10),\n",
       " ('in', 6),\n",
       " ('Professional', 6),\n",
       " ('University', 6),\n",
       " ('Seeking', 6)]"
      ]
     },
     "execution_count": 30,
     "metadata": {},
     "output_type": "execute_result"
    }
   ],
   "source": [
    "#counting the unique words in each job title and storing it in a dictionary\n",
    "from collections import defaultdict\n",
    "import operator\n",
    "\n",
    "temp = defaultdict(int)\n",
    "for sub in job_titles:\n",
    "    for wrd in sub.split():\n",
    "        temp[wrd] += 1\n",
    "list((dict(sorted(temp.items(), key=operator.itemgetter(1),reverse=True))).items())[:10] #listing the top 10 uniques words within job titles"
   ]
  },
  {
   "cell_type": "markdown",
   "id": "cd263358",
   "metadata": {},
   "source": [
    "It seems 'Human' and 'Resources' is the most commonly occuring words in the given dataset, suggesting this dataset is likely a result of search result based on the keyword 'Human Resources'. Assuming we are interested in candidates in the human resources sector, we can filter the given dataset to only include candidate who has 'Human Resources' and/or 'HR' in job title, resulting in a dataframe that has candidates who are currently in and/or interested in pursuing a career in HR."
   ]
  },
  {
   "cell_type": "code",
   "execution_count": 90,
   "id": "4c96d789",
   "metadata": {},
   "outputs": [
    {
     "data": {
      "text/plain": [
       "array(['Native English Teacher at EPIK (English Program in Korea)',\n",
       "       'People Development Coordinator at Ryan',\n",
       "       'Advisory Board Member at Celal Bayar University',\n",
       "       'Student at Chapman University',\n",
       "       'Junior MES Engineer| Information Systems',\n",
       "       'RRP Brand Portfolio Executive at JTI (Japan Tobacco International)',\n",
       "       'Information Systems Specialist and Programmer with a love for data and organization.',\n",
       "       'Bachelor of Science in Biology from Victoria University of Wellington',\n",
       "       'Undergraduate Research Assistant at Styczynski Lab',\n",
       "       'Lead Official at Western Illinois University',\n",
       "       'Seeking employment opportunities within Customer Service or Patient Care',\n",
       "       'Admissions Representative at Community medical center long beach',\n",
       "       'Student at Westfield State University',\n",
       "       'Student at Indiana University Kokomo - Business Management - \\nRetail Manager at Delphi Hardware and Paint',\n",
       "       'Student', 'Business Intelligence and Analytics at Travelers',\n",
       "       'Always set them up for Success',\n",
       "       'Director Of Administration at Excellence Logging'], dtype=object)"
      ]
     },
     "execution_count": 90,
     "metadata": {},
     "output_type": "execute_result"
    }
   ],
   "source": [
    "#internal check to see what are the non-hr related job titles\n",
    "df_non_hr = df[~df['job_title'].str.contains('Human|Resources|HR')]\n",
    "df_non_hr.job_title.unique()"
   ]
  },
  {
   "cell_type": "code",
   "execution_count": 109,
   "id": "fd1a3388",
   "metadata": {},
   "outputs": [
    {
     "data": {
      "text/html": [
       "<div>\n",
       "<style scoped>\n",
       "    .dataframe tbody tr th:only-of-type {\n",
       "        vertical-align: middle;\n",
       "    }\n",
       "\n",
       "    .dataframe tbody tr th {\n",
       "        vertical-align: top;\n",
       "    }\n",
       "\n",
       "    .dataframe thead th {\n",
       "        text-align: right;\n",
       "    }\n",
       "</style>\n",
       "<table border=\"1\" class=\"dataframe\">\n",
       "  <thead>\n",
       "    <tr style=\"text-align: right;\">\n",
       "      <th></th>\n",
       "      <th>id</th>\n",
       "      <th>job_title</th>\n",
       "      <th>location</th>\n",
       "      <th>connection</th>\n",
       "      <th>fit</th>\n",
       "    </tr>\n",
       "  </thead>\n",
       "  <tbody>\n",
       "    <tr>\n",
       "      <th>0</th>\n",
       "      <td>1</td>\n",
       "      <td>2019 C.T. Bauer College of Business Graduate (...</td>\n",
       "      <td>Houston, Texas</td>\n",
       "      <td>85</td>\n",
       "      <td>NaN</td>\n",
       "    </tr>\n",
       "    <tr>\n",
       "      <th>2</th>\n",
       "      <td>3</td>\n",
       "      <td>Aspiring Human Resources Professional</td>\n",
       "      <td>Raleigh-Durham, North Carolina Area</td>\n",
       "      <td>44</td>\n",
       "      <td>NaN</td>\n",
       "    </tr>\n",
       "    <tr>\n",
       "      <th>5</th>\n",
       "      <td>6</td>\n",
       "      <td>Aspiring Human Resources Specialist</td>\n",
       "      <td>Greater New York City Area</td>\n",
       "      <td>1</td>\n",
       "      <td>NaN</td>\n",
       "    </tr>\n",
       "    <tr>\n",
       "      <th>6</th>\n",
       "      <td>7</td>\n",
       "      <td>Student at Humber College and Aspiring Human R...</td>\n",
       "      <td>Kanada</td>\n",
       "      <td>61</td>\n",
       "      <td>NaN</td>\n",
       "    </tr>\n",
       "    <tr>\n",
       "      <th>7</th>\n",
       "      <td>8</td>\n",
       "      <td>HR Senior Specialist</td>\n",
       "      <td>San Francisco Bay Area</td>\n",
       "      <td>500+</td>\n",
       "      <td>NaN</td>\n",
       "    </tr>\n",
       "    <tr>\n",
       "      <th>...</th>\n",
       "      <td>...</td>\n",
       "      <td>...</td>\n",
       "      <td>...</td>\n",
       "      <td>...</td>\n",
       "      <td>...</td>\n",
       "    </tr>\n",
       "    <tr>\n",
       "      <th>93</th>\n",
       "      <td>94</td>\n",
       "      <td>Seeking Human  Resources Opportunities. Open t...</td>\n",
       "      <td>Amerika Birleşik Devletleri</td>\n",
       "      <td>415</td>\n",
       "      <td>NaN</td>\n",
       "    </tr>\n",
       "    <tr>\n",
       "      <th>96</th>\n",
       "      <td>97</td>\n",
       "      <td>Aspiring Human Resources Professional</td>\n",
       "      <td>Kokomo, Indiana Area</td>\n",
       "      <td>71</td>\n",
       "      <td>NaN</td>\n",
       "    </tr>\n",
       "    <tr>\n",
       "      <th>98</th>\n",
       "      <td>99</td>\n",
       "      <td>Seeking Human Resources Position</td>\n",
       "      <td>Las Vegas, Nevada Area</td>\n",
       "      <td>48</td>\n",
       "      <td>NaN</td>\n",
       "    </tr>\n",
       "    <tr>\n",
       "      <th>99</th>\n",
       "      <td>100</td>\n",
       "      <td>Aspiring Human Resources Manager | Graduating ...</td>\n",
       "      <td>Cape Girardeau, Missouri</td>\n",
       "      <td>103</td>\n",
       "      <td>NaN</td>\n",
       "    </tr>\n",
       "    <tr>\n",
       "      <th>100</th>\n",
       "      <td>101</td>\n",
       "      <td>Human Resources Generalist at Loparex</td>\n",
       "      <td>Raleigh-Durham, North Carolina Area</td>\n",
       "      <td>500+</td>\n",
       "      <td>NaN</td>\n",
       "    </tr>\n",
       "  </tbody>\n",
       "</table>\n",
       "<p>71 rows × 5 columns</p>\n",
       "</div>"
      ],
      "text/plain": [
       "      id                                          job_title  \\\n",
       "0      1  2019 C.T. Bauer College of Business Graduate (...   \n",
       "2      3              Aspiring Human Resources Professional   \n",
       "5      6                Aspiring Human Resources Specialist   \n",
       "6      7  Student at Humber College and Aspiring Human R...   \n",
       "7      8                               HR Senior Specialist   \n",
       "..   ...                                                ...   \n",
       "93    94  Seeking Human  Resources Opportunities. Open t...   \n",
       "96    97              Aspiring Human Resources Professional   \n",
       "98    99                   Seeking Human Resources Position   \n",
       "99   100  Aspiring Human Resources Manager | Graduating ...   \n",
       "100  101              Human Resources Generalist at Loparex   \n",
       "\n",
       "                                location connection  fit  \n",
       "0                         Houston, Texas         85  NaN  \n",
       "2    Raleigh-Durham, North Carolina Area         44  NaN  \n",
       "5             Greater New York City Area          1  NaN  \n",
       "6                                 Kanada         61  NaN  \n",
       "7                 San Francisco Bay Area      500+   NaN  \n",
       "..                                   ...        ...  ...  \n",
       "93           Amerika Birleşik Devletleri        415  NaN  \n",
       "96                  Kokomo, Indiana Area         71  NaN  \n",
       "98                Las Vegas, Nevada Area         48  NaN  \n",
       "99              Cape Girardeau, Missouri        103  NaN  \n",
       "100  Raleigh-Durham, North Carolina Area      500+   NaN  \n",
       "\n",
       "[71 rows x 5 columns]"
      ]
     },
     "execution_count": 109,
     "metadata": {},
     "output_type": "execute_result"
    }
   ],
   "source": [
    "#fitlering hr related candidates into a single dataframe\n",
    "df_hr = df[df['job_title'].str.contains('Human|Resources|HR')]\n",
    "df_hr"
   ]
  },
  {
   "cell_type": "code",
   "execution_count": 110,
   "id": "da0266a1",
   "metadata": {},
   "outputs": [
    {
     "data": {
      "text/plain": [
       "id              int64\n",
       "job_title      object\n",
       "location       object\n",
       "connection     object\n",
       "fit           float64\n",
       "dtype: object"
      ]
     },
     "execution_count": 110,
     "metadata": {},
     "output_type": "execute_result"
    }
   ],
   "source": [
    "df_hr.dtypes"
   ]
  },
  {
   "cell_type": "code",
   "execution_count": 111,
   "id": "177d1a61",
   "metadata": {},
   "outputs": [
    {
     "data": {
      "text/plain": [
       "array(['Houston, Texas', 'Raleigh-Durham, North Carolina Area',\n",
       "       'Greater New York City Area', 'Kanada', 'San Francisco Bay Area',\n",
       "       'Greater Philadelphia Area', 'Houston, Texas Area',\n",
       "       'Atlanta, Georgia', 'Chicago, Illinois', 'Austin, Texas Area',\n",
       "       'Jackson, Mississippi Area', 'Greater Grand Rapids, Michigan Area',\n",
       "       'Virginia Beach, Virginia', 'Monroe, Louisiana Area',\n",
       "       'Greater Boston Area', 'San Jose, California',\n",
       "       'New York, New York', 'Dallas/Fort Worth Area',\n",
       "       'Amerika Birleşik Devletleri', 'Baton Rouge, Louisiana Area',\n",
       "       'Chattanooga, Tennessee Area', 'Los Angeles, California',\n",
       "       'Highland, California', 'Milpitas, California',\n",
       "       'Greater Atlanta Area', 'Kokomo, Indiana Area',\n",
       "       'Las Vegas, Nevada Area', 'Cape Girardeau, Missouri'], dtype=object)"
      ]
     },
     "execution_count": 111,
     "metadata": {},
     "output_type": "execute_result"
    }
   ],
   "source": [
    "df_hr.location.unique()"
   ]
  },
  {
   "cell_type": "code",
   "execution_count": 112,
   "id": "db40265e",
   "metadata": {},
   "outputs": [
    {
     "data": {
      "text/plain": [
       "array(['85', '44', '1', '61', '500+ ', '390', '57', '82', '5', '7', '16',\n",
       "       '212', '409', '455', '174', '268', '50', '18', '349', '415', '71',\n",
       "       '48', '103'], dtype=object)"
      ]
     },
     "execution_count": 112,
     "metadata": {},
     "output_type": "execute_result"
    }
   ],
   "source": [
    "df_hr.connection.unique()"
   ]
  },
  {
   "cell_type": "markdown",
   "id": "a851f1f2",
   "metadata": {},
   "source": [
    "We can replace all '500+ ' in 'connection' to 500 and convert the 'connection' column to type integer."
   ]
  },
  {
   "cell_type": "code",
   "execution_count": 113,
   "id": "6372dc79",
   "metadata": {},
   "outputs": [
    {
     "data": {
      "text/html": [
       "<div>\n",
       "<style scoped>\n",
       "    .dataframe tbody tr th:only-of-type {\n",
       "        vertical-align: middle;\n",
       "    }\n",
       "\n",
       "    .dataframe tbody tr th {\n",
       "        vertical-align: top;\n",
       "    }\n",
       "\n",
       "    .dataframe thead th {\n",
       "        text-align: right;\n",
       "    }\n",
       "</style>\n",
       "<table border=\"1\" class=\"dataframe\">\n",
       "  <thead>\n",
       "    <tr style=\"text-align: right;\">\n",
       "      <th></th>\n",
       "      <th>id</th>\n",
       "      <th>job_title</th>\n",
       "      <th>location</th>\n",
       "      <th>connection</th>\n",
       "      <th>fit</th>\n",
       "    </tr>\n",
       "  </thead>\n",
       "  <tbody>\n",
       "    <tr>\n",
       "      <th>0</th>\n",
       "      <td>1</td>\n",
       "      <td>2019 C.T. Bauer College of Business Graduate (...</td>\n",
       "      <td>Houston, Texas</td>\n",
       "      <td>85</td>\n",
       "      <td>NaN</td>\n",
       "    </tr>\n",
       "    <tr>\n",
       "      <th>2</th>\n",
       "      <td>3</td>\n",
       "      <td>Aspiring Human Resources Professional</td>\n",
       "      <td>Raleigh-Durham, North Carolina Area</td>\n",
       "      <td>44</td>\n",
       "      <td>NaN</td>\n",
       "    </tr>\n",
       "    <tr>\n",
       "      <th>5</th>\n",
       "      <td>6</td>\n",
       "      <td>Aspiring Human Resources Specialist</td>\n",
       "      <td>Greater New York City Area</td>\n",
       "      <td>1</td>\n",
       "      <td>NaN</td>\n",
       "    </tr>\n",
       "    <tr>\n",
       "      <th>6</th>\n",
       "      <td>7</td>\n",
       "      <td>Student at Humber College and Aspiring Human R...</td>\n",
       "      <td>Kanada</td>\n",
       "      <td>61</td>\n",
       "      <td>NaN</td>\n",
       "    </tr>\n",
       "    <tr>\n",
       "      <th>7</th>\n",
       "      <td>8</td>\n",
       "      <td>HR Senior Specialist</td>\n",
       "      <td>San Francisco Bay Area</td>\n",
       "      <td>500</td>\n",
       "      <td>NaN</td>\n",
       "    </tr>\n",
       "    <tr>\n",
       "      <th>...</th>\n",
       "      <td>...</td>\n",
       "      <td>...</td>\n",
       "      <td>...</td>\n",
       "      <td>...</td>\n",
       "      <td>...</td>\n",
       "    </tr>\n",
       "    <tr>\n",
       "      <th>93</th>\n",
       "      <td>94</td>\n",
       "      <td>Seeking Human  Resources Opportunities. Open t...</td>\n",
       "      <td>Amerika Birleşik Devletleri</td>\n",
       "      <td>415</td>\n",
       "      <td>NaN</td>\n",
       "    </tr>\n",
       "    <tr>\n",
       "      <th>96</th>\n",
       "      <td>97</td>\n",
       "      <td>Aspiring Human Resources Professional</td>\n",
       "      <td>Kokomo, Indiana Area</td>\n",
       "      <td>71</td>\n",
       "      <td>NaN</td>\n",
       "    </tr>\n",
       "    <tr>\n",
       "      <th>98</th>\n",
       "      <td>99</td>\n",
       "      <td>Seeking Human Resources Position</td>\n",
       "      <td>Las Vegas, Nevada Area</td>\n",
       "      <td>48</td>\n",
       "      <td>NaN</td>\n",
       "    </tr>\n",
       "    <tr>\n",
       "      <th>99</th>\n",
       "      <td>100</td>\n",
       "      <td>Aspiring Human Resources Manager | Graduating ...</td>\n",
       "      <td>Cape Girardeau, Missouri</td>\n",
       "      <td>103</td>\n",
       "      <td>NaN</td>\n",
       "    </tr>\n",
       "    <tr>\n",
       "      <th>100</th>\n",
       "      <td>101</td>\n",
       "      <td>Human Resources Generalist at Loparex</td>\n",
       "      <td>Raleigh-Durham, North Carolina Area</td>\n",
       "      <td>500</td>\n",
       "      <td>NaN</td>\n",
       "    </tr>\n",
       "  </tbody>\n",
       "</table>\n",
       "<p>71 rows × 5 columns</p>\n",
       "</div>"
      ],
      "text/plain": [
       "      id                                          job_title  \\\n",
       "0      1  2019 C.T. Bauer College of Business Graduate (...   \n",
       "2      3              Aspiring Human Resources Professional   \n",
       "5      6                Aspiring Human Resources Specialist   \n",
       "6      7  Student at Humber College and Aspiring Human R...   \n",
       "7      8                               HR Senior Specialist   \n",
       "..   ...                                                ...   \n",
       "93    94  Seeking Human  Resources Opportunities. Open t...   \n",
       "96    97              Aspiring Human Resources Professional   \n",
       "98    99                   Seeking Human Resources Position   \n",
       "99   100  Aspiring Human Resources Manager | Graduating ...   \n",
       "100  101              Human Resources Generalist at Loparex   \n",
       "\n",
       "                                location connection  fit  \n",
       "0                         Houston, Texas         85  NaN  \n",
       "2    Raleigh-Durham, North Carolina Area         44  NaN  \n",
       "5             Greater New York City Area          1  NaN  \n",
       "6                                 Kanada         61  NaN  \n",
       "7                 San Francisco Bay Area        500  NaN  \n",
       "..                                   ...        ...  ...  \n",
       "93           Amerika Birleşik Devletleri        415  NaN  \n",
       "96                  Kokomo, Indiana Area         71  NaN  \n",
       "98                Las Vegas, Nevada Area         48  NaN  \n",
       "99              Cape Girardeau, Missouri        103  NaN  \n",
       "100  Raleigh-Durham, North Carolina Area        500  NaN  \n",
       "\n",
       "[71 rows x 5 columns]"
      ]
     },
     "execution_count": 113,
     "metadata": {},
     "output_type": "execute_result"
    }
   ],
   "source": [
    "#replacing 500+ with 500\n",
    "df_hr = df_hr.replace(\"500+ \",500)\n",
    "df_hr"
   ]
  },
  {
   "cell_type": "code",
   "execution_count": 114,
   "id": "28b8debb",
   "metadata": {},
   "outputs": [
    {
     "data": {
      "text/plain": [
       "id              int64\n",
       "job_title      object\n",
       "location       object\n",
       "connection      int64\n",
       "fit           float64\n",
       "dtype: object"
      ]
     },
     "execution_count": 114,
     "metadata": {},
     "output_type": "execute_result"
    }
   ],
   "source": [
    "#changing 'connection' dtype to int64\n",
    "df_hr = df_hr.astype({'connection': 'int64'})\n",
    "df_hr.dtypes"
   ]
  },
  {
   "cell_type": "code",
   "execution_count": 115,
   "id": "7e637241",
   "metadata": {},
   "outputs": [
    {
     "data": {
      "text/plain": [
       "array(['2019 C.T. Bauer College of Business Graduate (Magna Cum Laude) and aspiring Human Resources professional',\n",
       "       'Aspiring Human Resources Professional',\n",
       "       'Aspiring Human Resources Specialist',\n",
       "       'Student at Humber College and Aspiring Human Resources Generalist',\n",
       "       'HR Senior Specialist',\n",
       "       'Seeking Human Resources HRIS and Generalist Positions',\n",
       "       'SVP, CHRO, Marketing & Communications, CSR Officer | ENGIE | Houston | The Woodlands | Energy | GPHR | SPHR',\n",
       "       'Human Resources Coordinator at InterContinental Buckhead Atlanta',\n",
       "       'Aspiring Human Resources Management student seeking an internship',\n",
       "       'Seeking Human Resources Opportunities',\n",
       "       'Experienced Retail Manager and aspiring Human Resources Professional',\n",
       "       'Human Resources, Staffing and Recruiting Professional',\n",
       "       'Human Resources Specialist at Luxottica',\n",
       "       'Director of Human Resources North America, Groupe Beneteau',\n",
       "       'Retired Army National Guard Recruiter, office manager,  seeking a position in Human Resources.',\n",
       "       'Human Resources Generalist at ScottMadden, Inc.',\n",
       "       'Business Management Major and Aspiring Human Resources Manager',\n",
       "       'Aspiring Human Resources Manager, seeking internship in Human Resources.',\n",
       "       'Human Resources Professional',\n",
       "       'Nortia Staffing is seeking Human Resources, Payroll & Administrative Professionals!!  (408) 709-2621',\n",
       "       'Aspiring Human Resources Professional | Passionate about helping to create an inclusive and engaging work environment',\n",
       "       'Human Resources|\\nConflict Management|\\nPolicies & Procedures|Talent Management|Benefits & Compensation',\n",
       "       \"Human Resources Generalist at Schwan's\",\n",
       "       'Liberal Arts Major. Aspiring Human Resources Analyst.',\n",
       "       'Senior Human Resources Business Partner at Heil Environmental',\n",
       "       'Aspiring Human Resources Professional | An energetic and Team-Focused Leader',\n",
       "       'HR Manager at Endemol Shine North America',\n",
       "       'Human Resources professional for the world leader in GIS software',\n",
       "       'Human Resources Management Major',\n",
       "       'Director Human Resources  at EY',\n",
       "       'Seeking Human  Resources Opportunities. Open to travel and relocation.',\n",
       "       'Seeking Human Resources Position',\n",
       "       'Aspiring Human Resources Manager | Graduating May 2020 | Seeking an Entry-Level Human Resources Position in St. Louis',\n",
       "       'Human Resources Generalist at Loparex'], dtype=object)"
      ]
     },
     "execution_count": 115,
     "metadata": {},
     "output_type": "execute_result"
    }
   ],
   "source": [
    "df_hr.job_title.unique()"
   ]
  },
  {
   "cell_type": "markdown",
   "id": "13efc822",
   "metadata": {},
   "source": [
    "One job title seem out of place -'Nortia Staffing is seeking Human Resources, Payroll & Administrative Professionals!!  (408) 709-2621'. I am going to remove this from the data frame"
   ]
  },
  {
   "cell_type": "code",
   "execution_count": 116,
   "id": "b0653816",
   "metadata": {},
   "outputs": [],
   "source": [
    "#removing the odd job title entry\n",
    "df_hr.drop(df_hr.loc[df['job_title']=='Nortia Staffing is seeking Human Resources, Payroll & Administrative Professionals!!  (408) 709-2621'].index, inplace=True)"
   ]
  },
  {
   "cell_type": "code",
   "execution_count": 117,
   "id": "8a4e5281",
   "metadata": {},
   "outputs": [
    {
     "data": {
      "text/plain": [
       "array(['2019 C.T. Bauer College of Business Graduate (Magna Cum Laude) and aspiring Human Resources professional',\n",
       "       'Aspiring Human Resources Professional',\n",
       "       'Aspiring Human Resources Specialist',\n",
       "       'Student at Humber College and Aspiring Human Resources Generalist',\n",
       "       'HR Senior Specialist',\n",
       "       'Seeking Human Resources HRIS and Generalist Positions',\n",
       "       'SVP, CHRO, Marketing & Communications, CSR Officer | ENGIE | Houston | The Woodlands | Energy | GPHR | SPHR',\n",
       "       'Human Resources Coordinator at InterContinental Buckhead Atlanta',\n",
       "       'Aspiring Human Resources Management student seeking an internship',\n",
       "       'Seeking Human Resources Opportunities',\n",
       "       'Experienced Retail Manager and aspiring Human Resources Professional',\n",
       "       'Human Resources, Staffing and Recruiting Professional',\n",
       "       'Human Resources Specialist at Luxottica',\n",
       "       'Director of Human Resources North America, Groupe Beneteau',\n",
       "       'Retired Army National Guard Recruiter, office manager,  seeking a position in Human Resources.',\n",
       "       'Human Resources Generalist at ScottMadden, Inc.',\n",
       "       'Business Management Major and Aspiring Human Resources Manager',\n",
       "       'Aspiring Human Resources Manager, seeking internship in Human Resources.',\n",
       "       'Human Resources Professional',\n",
       "       'Aspiring Human Resources Professional | Passionate about helping to create an inclusive and engaging work environment',\n",
       "       'Human Resources|\\nConflict Management|\\nPolicies & Procedures|Talent Management|Benefits & Compensation',\n",
       "       \"Human Resources Generalist at Schwan's\",\n",
       "       'Liberal Arts Major. Aspiring Human Resources Analyst.',\n",
       "       'Senior Human Resources Business Partner at Heil Environmental',\n",
       "       'Aspiring Human Resources Professional | An energetic and Team-Focused Leader',\n",
       "       'HR Manager at Endemol Shine North America',\n",
       "       'Human Resources professional for the world leader in GIS software',\n",
       "       'Human Resources Management Major',\n",
       "       'Director Human Resources  at EY',\n",
       "       'Seeking Human  Resources Opportunities. Open to travel and relocation.',\n",
       "       'Seeking Human Resources Position',\n",
       "       'Aspiring Human Resources Manager | Graduating May 2020 | Seeking an Entry-Level Human Resources Position in St. Louis',\n",
       "       'Human Resources Generalist at Loparex'], dtype=object)"
      ]
     },
     "execution_count": 117,
     "metadata": {},
     "output_type": "execute_result"
    }
   ],
   "source": [
    "#checking if its removed\n",
    "df_hr.job_title.unique()"
   ]
  },
  {
   "cell_type": "code",
   "execution_count": 118,
   "id": "2fc03dd4",
   "metadata": {},
   "outputs": [
    {
     "data": {
      "text/html": [
       "<div>\n",
       "<style scoped>\n",
       "    .dataframe tbody tr th:only-of-type {\n",
       "        vertical-align: middle;\n",
       "    }\n",
       "\n",
       "    .dataframe tbody tr th {\n",
       "        vertical-align: top;\n",
       "    }\n",
       "\n",
       "    .dataframe thead th {\n",
       "        text-align: right;\n",
       "    }\n",
       "</style>\n",
       "<table border=\"1\" class=\"dataframe\">\n",
       "  <thead>\n",
       "    <tr style=\"text-align: right;\">\n",
       "      <th></th>\n",
       "      <th>id</th>\n",
       "      <th>job_title</th>\n",
       "      <th>location</th>\n",
       "      <th>connection</th>\n",
       "      <th>fit</th>\n",
       "    </tr>\n",
       "  </thead>\n",
       "  <tbody>\n",
       "    <tr>\n",
       "      <th>0</th>\n",
       "      <td>1</td>\n",
       "      <td>2019 C.T. Bauer College of Business Graduate (...</td>\n",
       "      <td>Houston, Texas</td>\n",
       "      <td>85</td>\n",
       "      <td>NaN</td>\n",
       "    </tr>\n",
       "    <tr>\n",
       "      <th>2</th>\n",
       "      <td>3</td>\n",
       "      <td>Aspiring Human Resources Professional</td>\n",
       "      <td>Raleigh-Durham, North Carolina Area</td>\n",
       "      <td>44</td>\n",
       "      <td>NaN</td>\n",
       "    </tr>\n",
       "    <tr>\n",
       "      <th>5</th>\n",
       "      <td>6</td>\n",
       "      <td>Aspiring Human Resources Specialist</td>\n",
       "      <td>Greater New York City Area</td>\n",
       "      <td>1</td>\n",
       "      <td>NaN</td>\n",
       "    </tr>\n",
       "    <tr>\n",
       "      <th>6</th>\n",
       "      <td>7</td>\n",
       "      <td>Student at Humber College and Aspiring Human R...</td>\n",
       "      <td>Kanada</td>\n",
       "      <td>61</td>\n",
       "      <td>NaN</td>\n",
       "    </tr>\n",
       "    <tr>\n",
       "      <th>7</th>\n",
       "      <td>8</td>\n",
       "      <td>HR Senior Specialist</td>\n",
       "      <td>San Francisco Bay Area</td>\n",
       "      <td>500</td>\n",
       "      <td>NaN</td>\n",
       "    </tr>\n",
       "    <tr>\n",
       "      <th>...</th>\n",
       "      <td>...</td>\n",
       "      <td>...</td>\n",
       "      <td>...</td>\n",
       "      <td>...</td>\n",
       "      <td>...</td>\n",
       "    </tr>\n",
       "    <tr>\n",
       "      <th>93</th>\n",
       "      <td>94</td>\n",
       "      <td>Seeking Human  Resources Opportunities. Open t...</td>\n",
       "      <td>Amerika Birleşik Devletleri</td>\n",
       "      <td>415</td>\n",
       "      <td>NaN</td>\n",
       "    </tr>\n",
       "    <tr>\n",
       "      <th>96</th>\n",
       "      <td>97</td>\n",
       "      <td>Aspiring Human Resources Professional</td>\n",
       "      <td>Kokomo, Indiana Area</td>\n",
       "      <td>71</td>\n",
       "      <td>NaN</td>\n",
       "    </tr>\n",
       "    <tr>\n",
       "      <th>98</th>\n",
       "      <td>99</td>\n",
       "      <td>Seeking Human Resources Position</td>\n",
       "      <td>Las Vegas, Nevada Area</td>\n",
       "      <td>48</td>\n",
       "      <td>NaN</td>\n",
       "    </tr>\n",
       "    <tr>\n",
       "      <th>99</th>\n",
       "      <td>100</td>\n",
       "      <td>Aspiring Human Resources Manager | Graduating ...</td>\n",
       "      <td>Cape Girardeau, Missouri</td>\n",
       "      <td>103</td>\n",
       "      <td>NaN</td>\n",
       "    </tr>\n",
       "    <tr>\n",
       "      <th>100</th>\n",
       "      <td>101</td>\n",
       "      <td>Human Resources Generalist at Loparex</td>\n",
       "      <td>Raleigh-Durham, North Carolina Area</td>\n",
       "      <td>500</td>\n",
       "      <td>NaN</td>\n",
       "    </tr>\n",
       "  </tbody>\n",
       "</table>\n",
       "<p>70 rows × 5 columns</p>\n",
       "</div>"
      ],
      "text/plain": [
       "      id                                          job_title  \\\n",
       "0      1  2019 C.T. Bauer College of Business Graduate (...   \n",
       "2      3              Aspiring Human Resources Professional   \n",
       "5      6                Aspiring Human Resources Specialist   \n",
       "6      7  Student at Humber College and Aspiring Human R...   \n",
       "7      8                               HR Senior Specialist   \n",
       "..   ...                                                ...   \n",
       "93    94  Seeking Human  Resources Opportunities. Open t...   \n",
       "96    97              Aspiring Human Resources Professional   \n",
       "98    99                   Seeking Human Resources Position   \n",
       "99   100  Aspiring Human Resources Manager | Graduating ...   \n",
       "100  101              Human Resources Generalist at Loparex   \n",
       "\n",
       "                                location  connection  fit  \n",
       "0                         Houston, Texas          85  NaN  \n",
       "2    Raleigh-Durham, North Carolina Area          44  NaN  \n",
       "5             Greater New York City Area           1  NaN  \n",
       "6                                 Kanada          61  NaN  \n",
       "7                 San Francisco Bay Area         500  NaN  \n",
       "..                                   ...         ...  ...  \n",
       "93           Amerika Birleşik Devletleri         415  NaN  \n",
       "96                  Kokomo, Indiana Area          71  NaN  \n",
       "98                Las Vegas, Nevada Area          48  NaN  \n",
       "99              Cape Girardeau, Missouri         103  NaN  \n",
       "100  Raleigh-Durham, North Carolina Area         500  NaN  \n",
       "\n",
       "[70 rows x 5 columns]"
      ]
     },
     "execution_count": 118,
     "metadata": {},
     "output_type": "execute_result"
    }
   ],
   "source": [
    "df_hr"
   ]
  },
  {
   "cell_type": "markdown",
   "id": "1cedcd5b",
   "metadata": {},
   "source": [
    "We can add 'experience_status' to distinguish the current status of the candidate's experience in the HR sector. 1 is assigned to candidate who has aspiring/seeking in their job title and everyone else is assigned 0"
   ]
  },
  {
   "cell_type": "code",
   "execution_count": 131,
   "id": "7f4d9496",
   "metadata": {},
   "outputs": [
    {
     "data": {
      "text/plain": [
       "0      1\n",
       "2      1\n",
       "5      1\n",
       "6      1\n",
       "7      0\n",
       "      ..\n",
       "93     1\n",
       "96     1\n",
       "98     1\n",
       "99     1\n",
       "100    0\n",
       "Name: job_title, Length: 70, dtype: int32"
      ]
     },
     "execution_count": 131,
     "metadata": {},
     "output_type": "execute_result"
    }
   ],
   "source": [
    "df_hr['job_title'].str.contains('aspiring|seeking', case=False).astype(int)"
   ]
  },
  {
   "cell_type": "code",
   "execution_count": null,
   "id": "a50d9b63",
   "metadata": {},
   "outputs": [],
   "source": [
    "df_hr['experience_status'] = df_hr[\"job_title\"].apply(lambda x: 'aspiring' not in x and word_2 not in x)"
   ]
  },
  {
   "cell_type": "code",
   "execution_count": 126,
   "id": "9ba92d5a",
   "metadata": {},
   "outputs": [
    {
     "ename": "AttributeError",
     "evalue": "'str' object has no attribute 'contains'",
     "output_type": "error",
     "traceback": [
      "\u001b[1;31m---------------------------------------------------------------------------\u001b[0m",
      "\u001b[1;31mAttributeError\u001b[0m                            Traceback (most recent call last)",
      "\u001b[1;32m~\\AppData\\Local\\Temp/ipykernel_11772/2451375125.py\u001b[0m in \u001b[0;36m<module>\u001b[1;34m\u001b[0m\n\u001b[1;32m----> 1\u001b[1;33m \u001b[0mdf_hr\u001b[0m\u001b[1;33m[\u001b[0m\u001b[1;34m'experience_status'\u001b[0m\u001b[1;33m]\u001b[0m \u001b[1;33m=\u001b[0m \u001b[1;33m[\u001b[0m\u001b[1;36m0\u001b[0m \u001b[1;32mfor\u001b[0m \u001b[0mrow\u001b[0m \u001b[1;32min\u001b[0m \u001b[0mdf_hr\u001b[0m\u001b[1;33m[\u001b[0m\u001b[1;34m'job_title'\u001b[0m\u001b[1;33m]\u001b[0m \u001b[1;32mif\u001b[0m \u001b[0mrow\u001b[0m\u001b[1;33m.\u001b[0m\u001b[0mcontains\u001b[0m\u001b[1;33m(\u001b[0m\u001b[1;34m'aspiring|seeking'\u001b[0m\u001b[1;33m,\u001b[0m \u001b[0mcase\u001b[0m\u001b[1;33m=\u001b[0m\u001b[1;32mFalse\u001b[0m\u001b[1;33m)\u001b[0m \u001b[1;33m==\u001b[0m \u001b[1;32mTrue\u001b[0m\u001b[1;33m]\u001b[0m\u001b[1;33m\u001b[0m\u001b[1;33m\u001b[0m\u001b[0m\n\u001b[0m\u001b[0;32m      2\u001b[0m \u001b[0mdf_hr\u001b[0m\u001b[1;33m[\u001b[0m\u001b[1;34m'experience_status'\u001b[0m\u001b[1;33m]\u001b[0m \u001b[1;33m=\u001b[0m \u001b[1;33m[\u001b[0m\u001b[1;36m1\u001b[0m \u001b[1;32mfor\u001b[0m \u001b[0mrow\u001b[0m \u001b[1;32min\u001b[0m \u001b[0mdf_hr\u001b[0m\u001b[1;33m[\u001b[0m\u001b[1;34m'job_title'\u001b[0m\u001b[1;33m]\u001b[0m \u001b[1;32mif\u001b[0m \u001b[0mrow\u001b[0m\u001b[1;33m.\u001b[0m\u001b[0mcontains\u001b[0m\u001b[1;33m(\u001b[0m\u001b[1;34m'aspiring|seeking'\u001b[0m\u001b[1;33m,\u001b[0m \u001b[0mcase\u001b[0m\u001b[1;33m=\u001b[0m\u001b[1;32mFalse\u001b[0m\u001b[1;33m)\u001b[0m \u001b[1;33m==\u001b[0m \u001b[1;32mFalse\u001b[0m\u001b[1;33m]\u001b[0m\u001b[1;33m\u001b[0m\u001b[1;33m\u001b[0m\u001b[0m\n\u001b[0;32m      3\u001b[0m \u001b[0mdf_hr\u001b[0m\u001b[1;33m\u001b[0m\u001b[1;33m\u001b[0m\u001b[0m\n",
      "\u001b[1;32m~\\AppData\\Local\\Temp/ipykernel_11772/2451375125.py\u001b[0m in \u001b[0;36m<listcomp>\u001b[1;34m(.0)\u001b[0m\n\u001b[1;32m----> 1\u001b[1;33m \u001b[0mdf_hr\u001b[0m\u001b[1;33m[\u001b[0m\u001b[1;34m'experience_status'\u001b[0m\u001b[1;33m]\u001b[0m \u001b[1;33m=\u001b[0m \u001b[1;33m[\u001b[0m\u001b[1;36m0\u001b[0m \u001b[1;32mfor\u001b[0m \u001b[0mrow\u001b[0m \u001b[1;32min\u001b[0m \u001b[0mdf_hr\u001b[0m\u001b[1;33m[\u001b[0m\u001b[1;34m'job_title'\u001b[0m\u001b[1;33m]\u001b[0m \u001b[1;32mif\u001b[0m \u001b[0mrow\u001b[0m\u001b[1;33m.\u001b[0m\u001b[0mcontains\u001b[0m\u001b[1;33m(\u001b[0m\u001b[1;34m'aspiring|seeking'\u001b[0m\u001b[1;33m,\u001b[0m \u001b[0mcase\u001b[0m\u001b[1;33m=\u001b[0m\u001b[1;32mFalse\u001b[0m\u001b[1;33m)\u001b[0m \u001b[1;33m==\u001b[0m \u001b[1;32mTrue\u001b[0m\u001b[1;33m]\u001b[0m\u001b[1;33m\u001b[0m\u001b[1;33m\u001b[0m\u001b[0m\n\u001b[0m\u001b[0;32m      2\u001b[0m \u001b[0mdf_hr\u001b[0m\u001b[1;33m[\u001b[0m\u001b[1;34m'experience_status'\u001b[0m\u001b[1;33m]\u001b[0m \u001b[1;33m=\u001b[0m \u001b[1;33m[\u001b[0m\u001b[1;36m1\u001b[0m \u001b[1;32mfor\u001b[0m \u001b[0mrow\u001b[0m \u001b[1;32min\u001b[0m \u001b[0mdf_hr\u001b[0m\u001b[1;33m[\u001b[0m\u001b[1;34m'job_title'\u001b[0m\u001b[1;33m]\u001b[0m \u001b[1;32mif\u001b[0m \u001b[0mrow\u001b[0m\u001b[1;33m.\u001b[0m\u001b[0mcontains\u001b[0m\u001b[1;33m(\u001b[0m\u001b[1;34m'aspiring|seeking'\u001b[0m\u001b[1;33m,\u001b[0m \u001b[0mcase\u001b[0m\u001b[1;33m=\u001b[0m\u001b[1;32mFalse\u001b[0m\u001b[1;33m)\u001b[0m \u001b[1;33m==\u001b[0m \u001b[1;32mFalse\u001b[0m\u001b[1;33m]\u001b[0m\u001b[1;33m\u001b[0m\u001b[1;33m\u001b[0m\u001b[0m\n\u001b[0;32m      3\u001b[0m \u001b[0mdf_hr\u001b[0m\u001b[1;33m\u001b[0m\u001b[1;33m\u001b[0m\u001b[0m\n",
      "\u001b[1;31mAttributeError\u001b[0m: 'str' object has no attribute 'contains'"
     ]
    }
   ],
   "source": [
    "df_hr['experience_status'] = [0 for row in df_hr['job_title'] if row.contains('aspiring|seeking', case=False) == True]\n",
    "df_hr['experience_status'] = [1 for row in df_hr['job_title'] if row.contains('aspiring|seeking', case=False) == False]\n",
    "df_hr"
   ]
  },
  {
   "cell_type": "code",
   "execution_count": 122,
   "id": "a85f71ef",
   "metadata": {},
   "outputs": [
    {
     "ename": "ValueError",
     "evalue": "The truth value of a Series is ambiguous. Use a.empty, a.bool(), a.item(), a.any() or a.all().",
     "output_type": "error",
     "traceback": [
      "\u001b[1;31m---------------------------------------------------------------------------\u001b[0m",
      "\u001b[1;31mValueError\u001b[0m                                Traceback (most recent call last)",
      "\u001b[1;32m~\\AppData\\Local\\Temp/ipykernel_11772/2649985322.py\u001b[0m in \u001b[0;36m<module>\u001b[1;34m\u001b[0m\n\u001b[1;32m----> 1\u001b[1;33m \u001b[1;32mif\u001b[0m \u001b[0mdf_hr\u001b[0m\u001b[1;33m[\u001b[0m\u001b[1;34m'job_title'\u001b[0m\u001b[1;33m]\u001b[0m\u001b[1;33m.\u001b[0m\u001b[0mstr\u001b[0m\u001b[1;33m.\u001b[0m\u001b[0mcontains\u001b[0m\u001b[1;33m(\u001b[0m\u001b[1;34m'aspiring|seeking'\u001b[0m\u001b[1;33m,\u001b[0m \u001b[0mcase\u001b[0m\u001b[1;33m=\u001b[0m\u001b[1;32mFalse\u001b[0m\u001b[1;33m)\u001b[0m \u001b[1;33m==\u001b[0m \u001b[1;32mTrue\u001b[0m\u001b[1;33m:\u001b[0m\u001b[1;33m\u001b[0m\u001b[1;33m\u001b[0m\u001b[0m\n\u001b[0m\u001b[0;32m      2\u001b[0m     \u001b[0mdf_hr\u001b[0m\u001b[1;33m[\u001b[0m\u001b[1;34m'experience_status'\u001b[0m\u001b[1;33m]\u001b[0m \u001b[1;33m=\u001b[0m \u001b[1;36m0\u001b[0m\u001b[1;33m\u001b[0m\u001b[1;33m\u001b[0m\u001b[0m\n\u001b[0;32m      3\u001b[0m \u001b[1;32melse\u001b[0m\u001b[1;33m:\u001b[0m\u001b[1;33m\u001b[0m\u001b[1;33m\u001b[0m\u001b[0m\n\u001b[0;32m      4\u001b[0m     \u001b[0mdf_hr\u001b[0m\u001b[1;33m[\u001b[0m\u001b[1;34m'experience_status'\u001b[0m\u001b[1;33m]\u001b[0m \u001b[1;33m=\u001b[0m \u001b[1;36m1\u001b[0m\u001b[1;33m\u001b[0m\u001b[1;33m\u001b[0m\u001b[0m\n\u001b[0;32m      5\u001b[0m \u001b[1;33m\u001b[0m\u001b[0m\n",
      "\u001b[1;32m~\\Google Drive\\Full Stack Developer + Machine Learning\\potential-talents\\.venv\\lib\\site-packages\\pandas\\core\\generic.py\u001b[0m in \u001b[0;36m__nonzero__\u001b[1;34m(self)\u001b[0m\n\u001b[0;32m   1535\u001b[0m     \u001b[1;33m@\u001b[0m\u001b[0mfinal\u001b[0m\u001b[1;33m\u001b[0m\u001b[1;33m\u001b[0m\u001b[0m\n\u001b[0;32m   1536\u001b[0m     \u001b[1;32mdef\u001b[0m \u001b[0m__nonzero__\u001b[0m\u001b[1;33m(\u001b[0m\u001b[0mself\u001b[0m\u001b[1;33m)\u001b[0m\u001b[1;33m:\u001b[0m\u001b[1;33m\u001b[0m\u001b[1;33m\u001b[0m\u001b[0m\n\u001b[1;32m-> 1537\u001b[1;33m         raise ValueError(\n\u001b[0m\u001b[0;32m   1538\u001b[0m             \u001b[1;34mf\"The truth value of a {type(self).__name__} is ambiguous. \"\u001b[0m\u001b[1;33m\u001b[0m\u001b[1;33m\u001b[0m\u001b[0m\n\u001b[0;32m   1539\u001b[0m             \u001b[1;34m\"Use a.empty, a.bool(), a.item(), a.any() or a.all().\"\u001b[0m\u001b[1;33m\u001b[0m\u001b[1;33m\u001b[0m\u001b[0m\n",
      "\u001b[1;31mValueError\u001b[0m: The truth value of a Series is ambiguous. Use a.empty, a.bool(), a.item(), a.any() or a.all()."
     ]
    }
   ],
   "source": [
    "if df_hr['job_title'].str.contains('aspiring|seeking', case=False) == True:\n",
    "    df_hr['experience_status'] = 0\n",
    "else:\n",
    "    df_hr['experience_status'] = 1\n",
    "\n",
    "df_hr\n"
   ]
  }
 ],
 "metadata": {
  "kernelspec": {
   "display_name": "potential-talents",
   "language": "python",
   "name": ".venv"
  },
  "language_info": {
   "codemirror_mode": {
    "name": "ipython",
    "version": 3
   },
   "file_extension": ".py",
   "mimetype": "text/x-python",
   "name": "python",
   "nbconvert_exporter": "python",
   "pygments_lexer": "ipython3",
   "version": "3.9.6"
  }
 },
 "nbformat": 4,
 "nbformat_minor": 5
}
